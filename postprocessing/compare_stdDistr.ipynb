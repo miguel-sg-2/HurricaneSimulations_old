{
 "cells": [
  {
   "cell_type": "code",
   "execution_count": 1,
   "metadata": {},
   "outputs": [
    {
     "name": "stdout",
     "output_type": "stream",
     "text": [
      "done importing modules\n"
     ]
    }
   ],
   "source": [
    "#%%%%%%%%%%%%%%%%%%%%%%%%%%%%%%%%%%%%%%%%%%%%%%%%%%%%%%%%%%%%%%%%%%%%%%%%%%%%%%\n",
    "###############################################################################\n",
    "############## COMPARE RADIAL DISTRIBUTION OF STANDARD DEVIATION  #############\n",
    "###############################################################################\n",
    "\n",
    "#%% Import modules\n",
    "import os\n",
    "import numpy as np   \n",
    "import matplotlib.pyplot as mpyplot\n",
    "import matplotlib.dates as mdates \n",
    "import matplotlib.colors as mcolors \n",
    "import matplotlib.style as mstyle\n",
    "import pandas as pandas\n",
    "import cmocean\n",
    "import datetime\n",
    "import scipy as scipy\n",
    "from scipy import stats,signal\n",
    "import pandas\n",
    "import xarray as xr              \n",
    "\n",
    "\n",
    "print(\"done importing modules\")\n"
   ]
  },
  {
   "cell_type": "code",
   "execution_count": 2,
   "metadata": {},
   "outputs": [],
   "source": [
    "#%% Define file locations\n",
    "WRF_DIRECTORY_26 = \"/pl/active/JKL_IDEAL/hurricanes/sst_26/\"\n",
    "WRF_DIRECTORY_28 = \"/pl/active/JKL_IDEAL/hurricanes/sst_28/\" \n",
    "WRF_DIRECTORY_30 = \"/pl/active/JKL_IDEAL/hurricanes/sst_30/\"  \n",
    "WRF_DIRECTORY_32 = \"/pl/active/JKL_IDEAL/hurricanes/sst_32/\"  #\"/rc_scratch/misa5952/hurricanes/nudge_sst_32/\"   \n",
    "WRF_DIRECTORY_34 = \"/pl/active/JKL_IDEAL/hurricanes/sst_34/\" #\"/rc_scratch/misa5952/hurricanes/sst_34_NBA/\"  \n",
    "\n",
    "fileName = 'std_distr.txt'\n",
    "\n",
    "dirFig = \"/pl/active/JKL_IDEAL/hurricanes/Figures/\"\n"
   ]
  },
  {
   "cell_type": "code",
   "execution_count": 3,
   "metadata": {},
   "outputs": [],
   "source": [
    "#%% Turbine specs\n",
    "z_hh = 90\n",
    "D = 126"
   ]
  },
  {
   "cell_type": "code",
   "execution_count": 4,
   "metadata": {},
   "outputs": [],
   "source": [
    "#%% Extract pdf for yaw misalignment\n",
    "file_26 = np.loadtxt(WRF_DIRECTORY_26+fileName,delimiter=',',skiprows=1)\n",
    "binnss_26 = file_26[:,0]\n",
    "hist_26 = file_26[:,1:]\n",
    "file_26 = np.loadtxt(WRF_DIRECTORY_26+fileName,delimiter=',',max_rows=1)\n",
    "r_26 = file_26[:]\n",
    "\n",
    "file_28 = np.loadtxt(WRF_DIRECTORY_28+fileName,delimiter=',',skiprows=1)\n",
    "binnss_28 = file_28[:,0]\n",
    "hist_28 = file_28[:,1:]\n",
    "file_28 = np.loadtxt(WRF_DIRECTORY_28+fileName,delimiter=',',max_rows=1)\n",
    "r_28 = file_28[:]\n",
    "\n",
    "file_30 = np.loadtxt(WRF_DIRECTORY_30+fileName,delimiter=',',skiprows=1)\n",
    "binnss_30 = file_30[:,0]\n",
    "hist_30 = file_30[:,1:]\n",
    "file_30 = np.loadtxt(WRF_DIRECTORY_30+fileName,delimiter=',',max_rows=1)\n",
    "r_30 = file_30[:]\n",
    "\n",
    "file_32 = np.loadtxt(WRF_DIRECTORY_32+fileName,delimiter=',',skiprows=1)\n",
    "binnss_32 = file_32[:,0]\n",
    "hist_32 = file_32[:,1:]\n",
    "file_32 = np.loadtxt(WRF_DIRECTORY_32+fileName,delimiter=',',max_rows=1)\n",
    "r_32 = file_32[:]\n",
    "\n",
    "file_34 = np.loadtxt(WRF_DIRECTORY_34+fileName,delimiter=',',skiprows=1)\n",
    "binnss_34 = file_34[:,0]\n",
    "hist_34 = file_34[:,1:]\n",
    "file_34 = np.loadtxt(WRF_DIRECTORY_34+fileName,delimiter=',',max_rows=1)\n",
    "r_34 = file_34[:]"
   ]
  },
  {
   "cell_type": "code",
   "execution_count": 5,
   "metadata": {},
   "outputs": [],
   "source": [
    "#%% Colors for each case\n",
    "col_26 = 'steelblue'\n",
    "col_28 = 'tab:green'\n",
    "col_30 = 'goldenrod'\n",
    "col_32 = 'firebrick'\n",
    "col_32 = 'tab:purple'\n",
    "cols = [col_26,col_28,col_30,col_32,col_32]\n"
   ]
  },
  {
   "cell_type": "code",
   "execution_count": 6,
   "metadata": {},
   "outputs": [],
   "source": [
    "#%% Eyewall for each case\n",
    "r_eye_26 = 13805\n",
    "r_eye_28 = 21300\n",
    "r_eye_30 = 20333\n",
    "r_eye_32 = 27055\n",
    "r_eye_34 = 33638.915\n"
   ]
  },
  {
   "cell_type": "code",
   "execution_count": 7,
   "metadata": {},
   "outputs": [],
   "source": [
    "#%% Find radial locations of interest\n",
    "r_r = np.arange(0.8,1.3,0.1)\n",
    "\n",
    "i_r_26 = np.zeros(len(r_r))\n",
    "i_r_28 = np.zeros(len(r_r))\n",
    "i_r_30 = np.zeros(len(r_r))\n",
    "i_r_32 = np.zeros(len(r_r))\n",
    "i_r_34 = np.zeros(len(r_r))\n",
    "\n",
    "for i in np.arange(len(r_r)):\n",
    "    i_r_26[i] = np.argmin(np.abs(r_26/r_eye_26 - r_r[i]))\n",
    "    i_r_28[i] = np.argmin(np.abs(r_28/r_eye_28 - r_r[i]))\n",
    "    i_r_30[i] = np.argmin(np.abs(r_30/r_eye_30 - r_r[i]))\n",
    "    i_r_32[i] = np.argmin(np.abs(r_32/r_eye_32 - r_r[i]))\n",
    "    i_r_34[i] = np.argmin(np.abs(r_34/r_eye_34 - r_r[i]))\n",
    "\n",
    "i_r_26 = i_r_26.astype('int')\n",
    "i_r_28 = i_r_28.astype('int')\n",
    "i_r_30 = i_r_30.astype('int')\n",
    "i_r_32 = i_r_32.astype('int')\n",
    "i_r_34 = i_r_34.astype('int')"
   ]
  },
  {
   "cell_type": "markdown",
   "metadata": {},
   "source": [
    "## Current IEC profiles for 3-sec and 10-min winds"
   ]
  },
  {
   "cell_type": "code",
   "execution_count": 8,
   "metadata": {},
   "outputs": [
    {
     "name": "stdout",
     "output_type": "stream",
     "text": [
      "10-min extreme wind speed is 49.737170 (39.789736) for 50-year and 1-year recurrence\n",
      "Turbulence standard deviation is 5.225000\n",
      "3-sec extreme wind speed is 69.632038 (55.705630) for 50-year and 1-year recurrence\n",
      "Turbulence standard deviation is 5.096000\n"
     ]
    }
   ],
   "source": [
    "#%% Define functions to estiamte atmospheric conditions during extreme events (IEC models)\n",
    "\n",
    "def EWM_turbulent(u_ref,u_hub,z_rotor,z_hub):\n",
    "    # 10-min hub-height wind speed for 50-year and 1-year recurrence\n",
    "    u_50 = u_ref*((z_rotor/z_hub)**0.11);\n",
    "    u_1 = 0.8*u_50;\n",
    "    # Turbulence standard deviation\n",
    "    std = 0.11*u_hub\n",
    "    return [u_50,u_1,std]\n",
    "\n",
    "def EWM_steady(u_ref,z_rotor,z_hub):\n",
    "    # 3-sec hub-height wind speed for 50-year and 1-year recurrence\n",
    "    u_e50 = 1.4*u_ref*((z_rotor/z_hub)**0.11);\n",
    "    u_e1 = 0.8*u_e50;\n",
    "    return [u_e50,u_e1]\n",
    "\n",
    "def NTM(u_hub,i_ref):\n",
    "    b = 5.6\n",
    "    # Standard deviation of streamwise wind\n",
    "    std = i_ref*(0.75*u_hub + b)\n",
    "    return std\n",
    "\n",
    "# Reference conditions for turbine class\n",
    "I_ref = 0.16 # Class A turbine\n",
    "U_ref = np.array([50]) # Class I turbine\n",
    "\n",
    "\n",
    "z_TL = np.linspace(10,250,20)\n",
    "i_z_IEC = np.argmin(np.abs(z_TL - z_hh))\n",
    "\n",
    "## 6.1a\n",
    "# EWM turbulent wind model\n",
    "# U_hub = 0.95*U_ref\n",
    "U_hub = 0.95*U_ref\n",
    "U_50_61a,U_1_61a,STD_61a = EWM_turbulent(U_ref,U_hub,z_TL,z_hh)\n",
    "print('10-min extreme wind speed is %f (%f) for 50-year and 1-year recurrence' % (U_50_61a[i_z_IEC],U_1_61a[i_z_IEC]))\n",
    "print('Turbulence standard deviation is %f' % (STD_61a))\n",
    "\n",
    "## 6.1b\n",
    "# EWM steady wind model\n",
    "# U_hub = U_e50\n",
    "U_e50_61b,U_e1_61b = EWM_steady(U_ref,z_TL,z_hh)\n",
    "print('3-sec extreme wind speed is %f (%f) for 50-year and 1-year recurrence' % (U_e50_61b[i_z_IEC],U_e1_61b[i_z_IEC]))\n",
    "\n",
    "## 6.4\n",
    "# Normal turbulence model\n",
    "# U_hub < 0.7*U_ref\n",
    "U_hub = 0.7*U_ref\n",
    "STD_64 = NTM(U_hub,I_ref)\n",
    "print('Turbulence standard deviation is %f' % (STD_64))\n",
    "\n",
    "\n"
   ]
  },
  {
   "cell_type": "code",
   "execution_count": 9,
   "metadata": {},
   "outputs": [
    {
     "name": "stdout",
     "output_type": "stream",
     "text": [
      "Class IA turbine\n",
      "10-min extreme wind speed is 49.737170 (39.789736) for 50-year (1-year) recurrence\n",
      "Turbulence standard deviation is 5.733000\n",
      "3-sec extreme wind speed is 69.632038 (55.705630) for 50-year (1-year) recurrence\n",
      "  \n",
      "Class TA turbine\n",
      "10-min extreme wind speed is 56.700374 (45.360299) for 50-year (1-year) recurrence\n",
      "Turbulence standard deviation is 6.394500\n",
      "3-sec extreme wind speed is 79.380523 (63.504418) for 50-year (1-year) recurrence\n"
     ]
    }
   ],
   "source": [
    "U_ref_T = np.array([57]) # Class T turbine\n",
    "U_ref_I = np.array([50]) # Class I turbine\n",
    "\n",
    "I_ref = 0.18 # Class A turbine\n",
    "\n",
    "\n",
    "## Class I\n",
    "print('Class IA turbine')\n",
    "# EWM turbulent wind model\n",
    "U_hub_I = 0.95*U_ref_I\n",
    "U_50_classI,U_1_classI,STD_classI = EWM_turbulent(U_ref_I,U_hub_I,z_TL,z_hh)\n",
    "print('10-min extreme wind speed is %f (%f) for 50-year (1-year) recurrence' % (U_50_classI[i_z_IEC],U_1_classI[i_z_IEC]))\n",
    "# EWM steady wind model\n",
    "U_e50_classI,U_e1_classI = EWM_steady(U_ref_I,z_TL,z_hh)\n",
    "\n",
    "U_hub = 0.7*U_ref_I\n",
    "STD_classI = NTM(U_hub,I_ref)\n",
    "print('Turbulence standard deviation is %f' % (STD_classI))\n",
    "print('3-sec extreme wind speed is %f (%f) for 50-year (1-year) recurrence' % (U_e50_classI[i_z_IEC],U_e1_classI[i_z_IEC]))\n",
    "print('  ')\n",
    "\n",
    "## Class T\n",
    "print('Class TA turbine')\n",
    "# EWM turbulent wind model\n",
    "U_hub_T = 0.95*U_ref_T\n",
    "U_50_classT,U_1_classT,STD_classT = EWM_turbulent(U_ref_T,U_hub_T,z_TL,z_hh)\n",
    "print('10-min extreme wind speed is %f (%f) for 50-year (1-year) recurrence' % (U_50_classT[i_z_IEC],U_1_classT[i_z_IEC]))\n",
    "# EWM steady wind model\n",
    "U_e50_classT,U_e1_classT = EWM_steady(U_ref_T,z_TL,z_hh)\n",
    "U_hub = 0.7*U_ref_T\n",
    "STD_classT = NTM(U_hub,I_ref)\n",
    "print('Turbulence standard deviation is %f' % (STD_classT))\n",
    "print('3-sec extreme wind speed is %f (%f) for 50-year (1-year) recurrence' % (U_e50_classT[i_z_IEC],U_e1_classT[i_z_IEC]))\n"
   ]
  },
  {
   "cell_type": "markdown",
   "metadata": {},
   "source": [
    "## Compare IEC and hurricane data"
   ]
  },
  {
   "cell_type": "code",
   "execution_count": 10,
   "metadata": {},
   "outputs": [
    {
     "data": {
      "image/png": "[encoded data removed]",
      "text/plain": [
       "<Figure size 720x504 with 7 Axes>"
      ]
     },
     "metadata": {
      "needs_background": "light"
     },
     "output_type": "display_data"
    }
   ],
   "source": [
    "#%% Figure showing yaw misalignment histogram at different radial locations for each hurricane\n",
    "\n",
    "limX = [0,30]\n",
    "limY = [0,0.15]\n",
    "\n",
    "import matplotlib.gridspec as gridspec\n",
    "\n",
    "fig3 = mpyplot.figure(figsize=(10,7),constrained_layout=True)\n",
    "gs = fig3.add_gridspec(2, 6)\n",
    "\n",
    "f3_ax1 = fig3.add_subplot(gs[0, 0:2])\n",
    "colores = mpyplot.cm.Blues(np.linspace(0.3,1,len(r_r)))\n",
    "colores_legend = mpyplot.cm.Greys(np.linspace(0.3,1,len(r_r)))\n",
    "for i_r in np.arange(len(r_r)):\n",
    "    mpyplot.plot(binnss_26,hist_26[:,i_r_26[i_r]],color=colores[i_r])\n",
    "    # For legend\n",
    "    mpyplot.plot(-1*binnss_26,-1*hist_26[:,i_r_26[i_r]],color=colores_legend[i_r],label=r'$\\hat{r} = $'+str(r_r[i_r]))\n",
    "# STD from urbulence model\n",
    "mpyplot.plot([STD_classI,STD_classI],limY,'--k',linewidth=1.5)\n",
    "mpyplot.plot([STD_classT,STD_classT],limY,'--',color='silver',linewidth=1.5)\n",
    "mpyplot.legend(fontsize=12)\n",
    "mpyplot.xticks(fontsize=12)\n",
    "mpyplot.yticks(fontsize=12)\n",
    "mpyplot.xlim(limX)\n",
    "mpyplot.ylim(limY)\n",
    "# mpyplot.xlabel(r'$\\sigma_1$  [m s$^{-1}$]',fontsize=14)\n",
    "mpyplot.ylabel('Probability density [-]',fontsize=14)\n",
    "\n",
    "f3_ax1 = fig3.add_subplot(gs[0, 2:4])\n",
    "colores = mpyplot.cm.Greens(np.linspace(0.3,1,len(r_r)))\n",
    "for i_r in np.arange(len(r_r)):\n",
    "    mpyplot.plot(binnss_28,hist_28[:,i_r_28[i_r]],color=colores[i_r],label=r'$\\hat{r} = $'+str(r_r[i_r]))\n",
    "mpyplot.plot([STD_classI,STD_classI],limY,'--k',linewidth=1.5)\n",
    "mpyplot.plot([STD_classT,STD_classT],limY,'--',color='silver',linewidth=1.5)\n",
    "mpyplot.xticks(fontsize=12)\n",
    "mpyplot.yticks(fontsize=12)\n",
    "mpyplot.xlim(limX)\n",
    "mpyplot.ylim(limY)\n",
    "# mpyplot.xlabel(r'$\\sigma_1$  [m s$^{-1}$]',fontsize=14)\n",
    "# mpyplot.ylabel('Probability density [-]',fontsize=14)\n",
    "\n",
    "f3_ax1 = fig3.add_subplot(gs[0, 4:6])\n",
    "colores = mpyplot.cm.Oranges(np.linspace(0.3,1,len(r_r)))\n",
    "for i_r in np.arange(len(r_r)):\n",
    "    mpyplot.plot(binnss_30,hist_30[:,i_r_30[i_r]],color=colores[i_r])\n",
    "# STD from urbulence model\n",
    "mpyplot.plot([STD_classI,STD_classI],limY,'--k',linewidth=1.5,label='Class I')\n",
    "mpyplot.plot([STD_classT,STD_classT],limY,'--',color='silver',linewidth=1.5,label='Class T')\n",
    "mpyplot.xticks(fontsize=12)\n",
    "mpyplot.yticks(fontsize=12)\n",
    "mpyplot.xlim(limX)\n",
    "mpyplot.ylim(limY)\n",
    "mpyplot.legend(fontsize=12)\n",
    "# mpyplot.xlabel(r'$\\sigma_1$  [m s$^{-1}$]',fontsize=14)\n",
    "# mpyplot.ylabel('Probability density [-]',fontsize=14)\n",
    "\n",
    "f3_ax1 = fig3.add_subplot(gs[1, 1:3])\n",
    "colores = mpyplot.cm.Reds(np.linspace(0.3,1,len(r_r)))\n",
    "for i_r in np.arange(len(r_r)):\n",
    "    mpyplot.plot(binnss_32,hist_32[:,i_r_32[i_r]],color=colores[i_r],label=r'$\\hat{r} = $'+str(r_r[i_r]))\n",
    "# STD from urbulence model\n",
    "mpyplot.plot([STD_classI,STD_classI],limY,'--k',linewidth=1.5)\n",
    "mpyplot.plot([STD_classT,STD_classT],limY,'--',color='silver',linewidth=1.5)\n",
    "mpyplot.xticks(fontsize=12)\n",
    "mpyplot.yticks(fontsize=12)\n",
    "mpyplot.xlim(limX)\n",
    "mpyplot.ylim(limY)\n",
    "mpyplot.xlabel(r'$\\sigma_1$  [m s$^{-1}$]',fontsize=14)\n",
    "mpyplot.ylabel('Probability density [-]',fontsize=14)\n",
    "\n",
    "f3_ax1 = fig3.add_subplot(gs[1, 3:5])\n",
    "colores = mpyplot.cm.Purples(np.linspace(0.3,1,len(r_r)))\n",
    "for i_r in np.arange(len(r_r)):\n",
    "    mpyplot.plot(binnss_34,hist_34[:,i_r_34[i_r]],color=colores[i_r],label=r'$\\hat{r} = $'+str(r_r[i_r]))\n",
    "# STD from urbulence model\n",
    "mpyplot.plot([STD_classI,STD_classI],limY,'--k',linewidth=1.5)\n",
    "mpyplot.plot([STD_classT,STD_classT],limY,'--',color='silver',linewidth=1.5)\n",
    "mpyplot.xticks(fontsize=12)\n",
    "mpyplot.yticks(fontsize=12)\n",
    "mpyplot.xlim(limX)\n",
    "mpyplot.ylim(limY)\n",
    "mpyplot.xlabel(r'$\\sigma_1$  [m s$^{-1}$]',fontsize=14)\n",
    "# mpyplot.ylabel('Probability density [-]',fontsize=14)\n",
    "\n",
    "mpyplot.savefig(dirFig + \"std_prob.png\",facecolor='w',edgecolor='w',dpi=400,bbox_inches='tight')\n",
    "# mpyplot.tight_layout()\n",
    "mpyplot.show()"
   ]
  },
  {
   "cell_type": "code",
   "execution_count": 11,
   "metadata": {},
   "outputs": [
    {
     "name": "stdout",
     "output_type": "stream",
     "text": [
      "0.1885923561612864\n",
      "0.16701785522973006\n",
      "0.3177260714718049\n",
      "0.3098601360083739\n",
      "0.36713951880076423\n"
     ]
    }
   ],
   "source": [
    "# Percent of cases that exceed model\n",
    "\n",
    "temp_26 = 0\n",
    "for i_r in np.arange(len(r_r)):\n",
    "    temp_26 += np.nansum(hist_26[binnss_26>STD_classT,i_r_26[i_r]])\n",
    "temp_26 = temp_26/len(r_r)\n",
    "print(temp_26)\n",
    "\n",
    "temp_28 = 0\n",
    "for i_r in np.arange(len(r_r)):\n",
    "    temp_28 += np.nansum(hist_28[binnss_28>STD_classT,i_r_28[i_r]])\n",
    "temp_28 = temp_28/len(r_r)\n",
    "print(temp_28)\n",
    "\n",
    "temp_30 = 0\n",
    "for i_r in np.arange(len(r_r)):\n",
    "    temp_30 += np.nansum(hist_30[binnss_30>STD_classT,i_r_30[i_r]])\n",
    "temp_30 = temp_30/len(r_r)\n",
    "print(temp_30)\n",
    "\n",
    "temp_32 = 0\n",
    "for i_r in np.arange(len(r_r)):\n",
    "    temp_32 += np.nansum(hist_32[binnss_32>STD_classT,i_r_32[i_r]])\n",
    "temp_32 = temp_32/len(r_r)\n",
    "print(temp_32)\n",
    "\n",
    "temp_34 = 0\n",
    "for i_r in np.arange(len(r_r)):\n",
    "    temp_34 += np.nansum(hist_34[binnss_34>STD_classT,i_r_34[i_r]])\n",
    "temp_34 = temp_34/len(r_r)\n",
    "print(temp_34)"
   ]
  },
  {
   "cell_type": "code",
   "execution_count": 12,
   "metadata": {},
   "outputs": [
    {
     "name": "stdout",
     "output_type": "stream",
     "text": [
      "14.75\n"
     ]
    }
   ],
   "source": [
    "# 95th percentile of distributions\n",
    "\n",
    "# Function that finds bin for ith percentile\n",
    "def fun_perc(binss,pdf,ith):\n",
    "    summ =  0\n",
    "    bin_perc = binss[0]\n",
    "    for i in np.flip(np.arange(len(pdf))):\n",
    "        if summ<ith:\n",
    "            summ += pdf[i]\n",
    "            bin_perc = binss[i]\n",
    "    return bin_perc\n",
    "\n",
    "print(fun_perc(binnss_34,hist_34[:,i_r_34[-1]],0.05))\n",
    "            \n"
   ]
  },
  {
   "cell_type": "code",
   "execution_count": 13,
   "metadata": {},
   "outputs": [
    {
     "name": "stdout",
     "output_type": "stream",
     "text": [
      "11.15\n",
      "10.25\n",
      "13.85\n",
      "13.85\n",
      "15.45\n"
     ]
    }
   ],
   "source": [
    "# Find mean bin for i-th percentile\n",
    "iith = 1-0.95\n",
    "\n",
    "temp_26 = 0\n",
    "for i_r in np.arange(len(r_r)):\n",
    "    temp_26 += fun_perc(binnss_26,hist_26[:,i_r_26[i_r]],iith)\n",
    "temp_26 = temp_26/len(r_r)\n",
    "print(temp_26)\n",
    "\n",
    "temp_28 = 0\n",
    "for i_r in np.arange(len(r_r)):\n",
    "    temp_28 += fun_perc(binnss_28,hist_28[:,i_r_28[i_r]],iith)\n",
    "temp_28 = temp_28/len(r_r)\n",
    "print(temp_28)\n",
    "\n",
    "temp_30 = 0\n",
    "for i_r in np.arange(len(r_r)):\n",
    "    temp_30 += fun_perc(binnss_30,hist_30[:,i_r_30[i_r]],iith)\n",
    "temp_30 = temp_30/len(r_r)\n",
    "print(temp_30)\n",
    "\n",
    "temp_32 = 0\n",
    "for i_r in np.arange(len(r_r)):\n",
    "    temp_32 += fun_perc(binnss_32,hist_32[:,i_r_32[i_r]],iith)\n",
    "temp_32 = temp_32/len(r_r)\n",
    "print(temp_32)\n",
    "\n",
    "temp_34 = 0\n",
    "for i_r in np.arange(len(r_r)):\n",
    "    temp_34 += fun_perc(binnss_34,hist_34[:,i_r_34[i_r]],iith)\n",
    "temp_34 = temp_34/len(r_r)\n",
    "print(temp_34)"
   ]
  },
  {
   "cell_type": "code",
   "execution_count": 14,
   "metadata": {},
   "outputs": [
    {
     "name": "stdout",
     "output_type": "stream",
     "text": [
      "3.25\n",
      "2.75\n",
      "4.25\n",
      "4.75\n",
      "5.75\n"
     ]
    }
   ],
   "source": [
    "# Find mean bin for i-th percentile\n",
    "iith = 0.5 #1-0.95\n",
    "\n",
    "temp_26 = 0\n",
    "for i_r in np.arange(len(r_r)):\n",
    "    if r_r[i_r] == 1.0:\n",
    "        temp_26 += fun_perc(binnss_26,hist_26[:,i_r_26[i_r]],iith)\n",
    "# temp_26 = temp_26/len(r_r)\n",
    "print(temp_26)\n",
    "\n",
    "temp_28 = 0\n",
    "for i_r in np.arange(len(r_r)):\n",
    "    if r_r[i_r] == 1.0:\n",
    "        temp_28 += fun_perc(binnss_28,hist_28[:,i_r_28[i_r]],iith)\n",
    "# temp_28 = temp_28/len(r_r)\n",
    "print(temp_28)\n",
    "\n",
    "temp_30 = 0\n",
    "for i_r in np.arange(len(r_r)):\n",
    "    if r_r[i_r] == 1.2:\n",
    "        temp_30 += fun_perc(binnss_30,hist_30[:,i_r_30[i_r]],iith)\n",
    "# temp_30 = temp_30/len(r_r)\n",
    "print(temp_30)\n",
    "\n",
    "temp_32 = 0\n",
    "for i_r in np.arange(len(r_r)):\n",
    "    if r_r[i_r] == 1.0:\n",
    "        temp_32 += fun_perc(binnss_32,hist_32[:,i_r_32[i_r]],iith)\n",
    "# temp_32 = temp_32/len(r_r)\n",
    "print(temp_32)\n",
    "\n",
    "temp_34 = 0\n",
    "for i_r in np.arange(len(r_r)):\n",
    "    if r_r[i_r] == 1.1:\n",
    "        temp_34 += fun_perc(binnss_34,hist_34[:,i_r_34[i_r]],iith)\n",
    "# temp_34 = temp_34/len(r_r)\n",
    "print(temp_34)"
   ]
  },
  {
   "cell_type": "code",
   "execution_count": 15,
   "metadata": {},
   "outputs": [
    {
     "data": {
      "text/plain": [
       "array([5.733])"
      ]
     },
     "execution_count": 15,
     "metadata": {},
     "output_type": "execute_result"
    }
   ],
   "source": [
    "STD_classI"
   ]
  },
  {
   "cell_type": "code",
   "execution_count": 16,
   "metadata": {},
   "outputs": [
    {
     "data": {
      "text/plain": [
       "array([6.3945])"
      ]
     },
     "execution_count": 16,
     "metadata": {},
     "output_type": "execute_result"
    }
   ],
   "source": [
    "STD_classT"
   ]
  },
  {
   "cell_type": "code",
   "execution_count": null,
   "metadata": {},
   "outputs": [],
   "source": []
  }
 ],
 "metadata": {
  "kernelspec": {
   "display_name": "env_forWRF",
   "language": "python",
   "name": "env_forwrf"
  },
  "language_info": {
   "codemirror_mode": {
    "name": "ipython",
    "version": 3
   },
   "file_extension": ".py",
   "mimetype": "text/x-python",
   "name": "python",
   "nbconvert_exporter": "python",
   "pygments_lexer": "ipython3",
   "version": "3.8.2"
  }
 },
 "nbformat": 4,
 "nbformat_minor": 4
}
